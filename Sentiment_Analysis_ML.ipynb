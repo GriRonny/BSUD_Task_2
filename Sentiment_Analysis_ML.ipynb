{
 "cells": [
  {
   "metadata": {},
   "cell_type": "markdown",
   "source": "# Sentiment Analysis: Machine Learning Approach",
   "id": "79d64d030dc7afec"
  },
  {
   "metadata": {},
   "cell_type": "markdown",
   "source": "### Labeling",
   "id": "46fa041f484c195e"
  },
  {
   "metadata": {
    "ExecuteTime": {
     "end_time": "2024-12-09T14:47:28.894014Z",
     "start_time": "2024-12-09T14:47:28.439390Z"
    }
   },
   "cell_type": "code",
   "source": [
    "def review_labeling(data):\n",
    "    df = pd.read_csv(data, header=None)\n",
    "    \n",
    "    # Apply the condition only to the second column (index 1)\n",
    "    df[1] = df[1].apply(lambda x: 'positive' if x >= 4 else 'neutral' if 3 <= x < 4 else 'negative')\n",
    "    \n",
    "    return df\n",
    "\n",
    "df_processed = review_labeling('Data/spotify_reviews_full.csv')\n",
    "df_processed.columns = [\"Tokens\", \"Label\"]\n",
    "print(df_processed)\n",
    "df_processed.to_csv('Data/reviews_label_origin.csv', index=False)"
   ],
   "id": "6af255ba2d9f600d",
   "outputs": [
    {
     "name": "stdout",
     "output_type": "stream",
     "text": [
      "                                                  Tokens     Label\n",
      "0      Great music service, the audio is high quality...  positive\n",
      "1      Please ignore previous negative rating. This a...  positive\n",
      "2      This pop-up \"Get the best Spotify experience o...  positive\n",
      "3        Really buggy and terrible to use as of recently  negative\n",
      "4      Dear Spotify why do I get songs that I didn't ...  negative\n",
      "...                                                  ...       ...\n",
      "61589  Even though it was communicated that lyrics fe...  negative\n",
      "61590  Use to be sooo good back when I had it, and wh...  negative\n",
      "61591  This app would be good if not for it taking ov...  negative\n",
      "61592  The app is good hard to navigate and won't jus...  negative\n",
      "61593  Its good but sometimes it doesnt load the musi...  positive\n",
      "\n",
      "[61594 rows x 2 columns]\n"
     ]
    }
   ],
   "execution_count": 39
  },
  {
   "metadata": {},
   "cell_type": "markdown",
   "source": "### Preprocessing",
   "id": "a7324fb0e980d02"
  },
  {
   "metadata": {
    "ExecuteTime": {
     "end_time": "2024-12-09T14:47:32.616394Z",
     "start_time": "2024-12-09T14:47:32.612332Z"
    }
   },
   "cell_type": "code",
   "source": [
    "import numpy as np\n",
    "import pandas as pd\n",
    "import spacy\n",
    "import emoji\n",
    "import re\n",
    "import nltk\n",
    "from tqdm import tqdm\n",
    "from nltk.sentiment.util import mark_negation\n"
   ],
   "id": "4f671242847a0436",
   "outputs": [],
   "execution_count": 40
  },
  {
   "metadata": {
    "ExecuteTime": {
     "end_time": "2024-12-09T14:54:15.535450Z",
     "start_time": "2024-12-09T14:47:34.291524Z"
    }
   },
   "cell_type": "code",
   "source": [
    "nltk.download('stopwords')\n",
    "nltk.download('punkt')\n",
    "\n",
    "# Load spaCy model\n",
    "nlp = spacy.load('en_core_web_sm')\n",
    "\n",
    "# Function to map emojis to text. E.g., \"Python is 👍\" is transformed to \"Python is :thumbs_up:\"\n",
    "def map_emojis(text):\n",
    "    \"\"\"Convert emojis to their text representations.\"\"\"\n",
    "    text = emoji.demojize(text, delimiters=(\" \", \" \"))\n",
    "    # Replace underscores with spaces in emoji descriptions to avoid them being omitted during tokenization.\n",
    "    return text.replace('_', ' ')\n",
    "\n",
    "# Preprocessing function\n",
    "def preprocess_text(text):\n",
    "    \"\"\"Preprocess a single text string.\"\"\"\n",
    "    # Lowercase\n",
    "    text = text.lower()\n",
    "\n",
    "    # Convert emojis to text\n",
    "    text = map_emojis(text)\n",
    "\n",
    "    # Remove URLs and emails\n",
    "    text = re.sub(r'http\\S+|www.\\S+', '', text)\n",
    "    text = re.sub(r'\\S+@\\S+', '', text)\n",
    "\n",
    "    # Tokenization and Lemmatization using spaCy\n",
    "    doc = nlp(text)\n",
    "    tokens = [\n",
    "        token.lemma_ for token in doc\n",
    "        if not token.is_punct and not token.is_stop\n",
    "    ]\n",
    "    \n",
    "    # Apply negation marking\n",
    "    tokens = mark_negation(tokens)\n",
    "\n",
    "    return ' '.join(tokens)\n",
    "\n",
    "tqdm.pandas(desc=\"Preprocessing Reviews\")\n",
    "df_processed[\"Tokens\"] = df_processed[\"Tokens\"].progress_apply(preprocess_text)\n",
    "\n",
    "print(df_processed)\n",
    "\n",
    "df_processed.to_csv('Data/reviews_preprocessed.csv', index=False)"
   ],
   "id": "58da8b749278aeb6",
   "outputs": [
    {
     "name": "stderr",
     "output_type": "stream",
     "text": [
      "[nltk_data] Downloading package stopwords to\n",
      "[nltk_data]     C:\\Users\\phili\\AppData\\Roaming\\nltk_data...\n",
      "[nltk_data]   Package stopwords is already up-to-date!\n",
      "[nltk_data] Downloading package punkt to\n",
      "[nltk_data]     C:\\Users\\phili\\AppData\\Roaming\\nltk_data...\n",
      "[nltk_data]   Package punkt is already up-to-date!\n",
      "Preprocessing Reviews: 100%|██████████| 61594/61594 [06:40<00:00, 153.90it/s]\n"
     ]
    },
    {
     "name": "stdout",
     "output_type": "stream",
     "text": [
      "                                                  Tokens     Label\n",
      "0      great music service audio high quality app eas...  positive\n",
      "1      ignore previous negative rating app super grea...  positive\n",
      "2      pop good spotify experience android 12 annoyin...  positive\n",
      "3                            buggy terrible use recently  negative\n",
      "4                dear spotify song playlist shuffle play  negative\n",
      "...                                                  ...       ...\n",
      "61589  communicate lyric feature available user globa...  negative\n",
      "61590  use sooo good download free version pick song ...  negative\n",
      "61591  app good take device start comp spotify start ...  negative\n",
      "61592  app good hard navigate will let play song clic...  negative\n",
      "61593  good not load_NEG music_NEG play_NEG like_NEG ...  positive\n",
      "\n",
      "[61594 rows x 2 columns]\n"
     ]
    }
   ],
   "execution_count": 41
  },
  {
   "metadata": {},
   "cell_type": "markdown",
   "source": "### Train/Test Splitting",
   "id": "ca15d5e1f6795ed6"
  },
  {
   "metadata": {
    "ExecuteTime": {
     "end_time": "2024-12-09T14:54:21.773683Z",
     "start_time": "2024-12-09T14:54:21.722636Z"
    }
   },
   "cell_type": "code",
   "source": [
    "from sklearn import model_selection as ms\n",
    "\n",
    "df_text = df_processed[\"Tokens\"]\n",
    "df_target = df_processed[\"Label\"]\n",
    "\n",
    "train_data, test_data, train_target, test_target = ms.train_test_split(df_text, df_target, test_size=0.2, random_state=993, stratify=df_target)\n",
    "\n",
    "print(test_target)\n"
   ],
   "id": "48172c99eee59048",
   "outputs": [
    {
     "name": "stdout",
     "output_type": "stream",
     "text": [
      "30431    positive\n",
      "53118    positive\n",
      "30960    positive\n",
      "34324    positive\n",
      "59022    positive\n",
      "           ...   \n",
      "22075    positive\n",
      "23612    positive\n",
      "20156    negative\n",
      "51588    negative\n",
      "4962     negative\n",
      "Name: Label, Length: 12319, dtype: object\n"
     ]
    }
   ],
   "execution_count": 42
  },
  {
   "metadata": {},
   "cell_type": "markdown",
   "source": "### Count Vectorizer",
   "id": "7c1d5f3e6bef3bbe"
  },
  {
   "metadata": {
    "ExecuteTime": {
     "end_time": "2024-12-09T14:54:26.411360Z",
     "start_time": "2024-12-09T14:54:25.781759Z"
    }
   },
   "cell_type": "code",
   "source": [
    "from sklearn.feature_extraction.text import CountVectorizer\n",
    "\n",
    "cv = CountVectorizer()\n",
    "train_features = cv.fit_transform(train_data)\n",
    "\n",
    "print(train_features.shape)\n",
    "\n",
    "#print(train_features[:3])"
   ],
   "id": "8dd54b345d945020",
   "outputs": [
    {
     "name": "stdout",
     "output_type": "stream",
     "text": [
      "(49275, 20489)\n"
     ]
    }
   ],
   "execution_count": 43
  },
  {
   "metadata": {
    "ExecuteTime": {
     "end_time": "2024-12-09T14:54:28.703097Z",
     "start_time": "2024-12-09T14:54:28.692701Z"
    }
   },
   "cell_type": "code",
   "source": [
    "from sklearn.preprocessing import Binarizer\n",
    "\n",
    "transformer = Binarizer()\n",
    "train_bin = transformer.fit_transform(train_features)\n",
    "print(train_bin.shape)\n",
    "print(train_bin[0])"
   ],
   "id": "eae77d03570ae5c9",
   "outputs": [
    {
     "name": "stdout",
     "output_type": "stream",
     "text": [
      "(49275, 20489)\n",
      "<Compressed Sparse Row sparse matrix of dtype 'int64'\n",
      "\twith 16 stored elements and shape (1, 20489)>\n",
      "  Coords\tValues\n",
      "  (0, 4427)\t1\n",
      "  (0, 14768)\t1\n",
      "  (0, 13765)\t1\n",
      "  (0, 6805)\t1\n",
      "  (0, 19452)\t1\n",
      "  (0, 984)\t1\n",
      "  (0, 16404)\t1\n",
      "  (0, 13350)\t1\n",
      "  (0, 10906)\t1\n",
      "  (0, 1693)\t1\n",
      "  (0, 2239)\t1\n",
      "  (0, 19477)\t1\n",
      "  (0, 8796)\t1\n",
      "  (0, 5156)\t1\n",
      "  (0, 7634)\t1\n",
      "  (0, 6981)\t1\n"
     ]
    }
   ],
   "execution_count": 44
  },
  {
   "metadata": {},
   "cell_type": "markdown",
   "source": "## Classification Process",
   "id": "744f00257d819adf"
  },
  {
   "metadata": {
    "ExecuteTime": {
     "end_time": "2024-12-09T14:54:33.596175Z",
     "start_time": "2024-12-09T14:54:32.728222Z"
    }
   },
   "cell_type": "code",
   "source": [
    "from sklearn.naive_bayes import MultinomialNB\n",
    "from sklearn.pipeline import Pipeline\n",
    "from sklearn.metrics import confusion_matrix, classification_report, ConfusionMatrixDisplay\n",
    "\n",
    "text_clf = Pipeline([('vect', CountVectorizer(min_df=10, max_df=0.5)), \n",
    "                     ('binarizer', Binarizer()),\n",
    "                     ('clf', MultinomialNB()) # Classificiation\n",
    "                    ])\n",
    "\n",
    "text_clf.fit(train_data, train_target) \n",
    "predicted = text_clf.predict(test_data)\n",
    "\n",
    "\n",
    "results = pd.DataFrame({\n",
    "    'Actual': test_target,\n",
    "    'Predicted': predicted\n",
    "})"
   ],
   "id": "88d33df87e1d1adf",
   "outputs": [],
   "execution_count": 45
  },
  {
   "metadata": {},
   "cell_type": "markdown",
   "source": "### Confustion Matrix",
   "id": "9a5ee957488daafc"
  },
  {
   "metadata": {
    "ExecuteTime": {
     "end_time": "2024-12-09T14:54:36.369520Z",
     "start_time": "2024-12-09T14:54:36.070483Z"
    }
   },
   "cell_type": "code",
   "source": [
    "conf_matrix = confusion_matrix(test_target, predicted)\n",
    "print(\"Confusion Matrix:\")\n",
    "\n",
    "# Display Confusion Matrix\n",
    "disp = ConfusionMatrixDisplay(confusion_matrix=conf_matrix, display_labels=text_clf.classes_)\n",
    "disp.plot()\n",
    "\n",
    "# Classification Report\n",
    "report = classification_report(test_target, predicted, target_names=text_clf.classes_)\n",
    "print(\"Classification Report:\")\n",
    "print(report)"
   ],
   "id": "239c221eed7c3f7e",
   "outputs": [
    {
     "name": "stdout",
     "output_type": "stream",
     "text": [
      "Confusion Matrix:\n",
      "Classification Report:\n",
      "              precision    recall  f1-score   support\n",
      "\n",
      "    negative       0.73      0.81      0.77      4954\n",
      "     neutral       0.28      0.15      0.20      1377\n",
      "    positive       0.83      0.84      0.83      5988\n",
      "\n",
      "    accuracy                           0.75     12319\n",
      "   macro avg       0.61      0.60      0.60     12319\n",
      "weighted avg       0.73      0.75      0.74     12319\n",
      "\n"
     ]
    },
    {
     "data": {
      "text/plain": [
       "<Figure size 640x480 with 2 Axes>"
      ],
      "image/png": "[encoded data removed]"
     },
     "metadata": {},
     "output_type": "display_data"
    }
   ],
   "execution_count": 46
  },
  {
   "metadata": {},
   "cell_type": "code",
   "outputs": [],
   "execution_count": null,
   "source": "",
   "id": "df87785e3d8d04ea"
  }
 ],
 "metadata": {
  "kernelspec": {
   "display_name": "Python 3",
   "language": "python",
   "name": "python3"
  },
  "language_info": {
   "codemirror_mode": {
    "name": "ipython",
    "version": 2
   },
   "file_extension": ".py",
   "mimetype": "text/x-python",
   "name": "python",
   "nbconvert_exporter": "python",
   "pygments_lexer": "ipython2",
   "version": "2.7.6"
  }
 },
 "nbformat": 4,
 "nbformat_minor": 5
}
