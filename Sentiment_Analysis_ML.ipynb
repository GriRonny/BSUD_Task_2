{
 "cells": [
  {
   "metadata": {},
   "cell_type": "markdown",
   "source": "# Sentiment Analysis: Machine Learning Approach",
   "id": "79d64d030dc7afec"
  },
  {
   "metadata": {},
   "cell_type": "markdown",
   "source": [
    "## Preprocessing\n",
    "### Labeling:"
   ],
   "id": "46fa041f484c195e"
  },
  {
   "metadata": {
    "ExecuteTime": {
     "end_time": "2024-12-02T11:30:59.739759Z",
     "start_time": "2024-12-02T11:30:59.718551Z"
    }
   },
   "cell_type": "code",
   "source": [
    "import pandas as pd\n",
    "\n",
    "def review_labeling(data):\n",
    "    df = pd.read_csv(data, header=None)\n",
    "    \n",
    "    # Apply the condition only to the second column (index 1)\n",
    "    df[1] = df[1].apply(lambda x: 'positive' if x >= 3 else 'negative')\n",
    "    \n",
    "    return df\n",
    "\n",
    "df_processed = review_labeling('Data/ML/reviews_ML_mini.csv')\n",
    "print(df_processed)"
   ],
   "id": "6af255ba2d9f600d",
   "outputs": [
    {
     "name": "stdout",
     "output_type": "stream",
     "text": [
      "                                                    0         1\n",
      "0   Great music service, the audio is high quality...  positive\n",
      "1   Please ignore previous negative rating. This a...  positive\n",
      "2   This pop-up \"Get the best Spotify experience o...  positive\n",
      "3     Really buggy and terrible to use as of recently  negative\n",
      "4   Dear Spotify why do I get songs that I didn't ...  negative\n",
      "..                                                ...       ...\n",
      "94      I love Spotify just wish I can download music  positive\n",
      "95                   It's awesome and great music app  positive\n",
      "96  Works super well.... When it works... The app ...  negative\n",
      "97  I can't even listen to my favorite songs bc of...  negative\n",
      "98               it does'nt let you choose your songs  negative\n",
      "\n",
      "[99 rows x 2 columns]\n"
     ]
    }
   ],
   "execution_count": 60
  },
  {
   "metadata": {},
   "cell_type": "markdown",
   "source": "### Stopword removal and punctuation filtering:",
   "id": "a7324fb0e980d02"
  },
  {
   "metadata": {
    "ExecuteTime": {
     "end_time": "2024-12-02T11:30:59.770316Z",
     "start_time": "2024-12-02T11:30:59.765600Z"
    }
   },
   "cell_type": "code",
   "source": [
    "import numpy as np\n",
    "import pandas as pd\n",
    "import spacy\n",
    "import emoji\n",
    "import re\n",
    "import nltk\n",
    "from tqdm import tqdm\n"
   ],
   "id": "4f671242847a0436",
   "outputs": [],
   "execution_count": 61
  },
  {
   "metadata": {
    "ExecuteTime": {
     "end_time": "2024-12-02T11:31:00.861600Z",
     "start_time": "2024-12-02T11:30:59.770316Z"
    }
   },
   "cell_type": "code",
   "source": [
    "nltk.download('stopwords')\n",
    "nltk.download('punkt')\n",
    "\n",
    "# Load spaCy model\n",
    "nlp = spacy.load('en_core_web_sm')\n",
    "\n",
    "# Function to map emojis to text. E.g., \"Python is 👍\" is transformed to \"Python is :thumbs_up:\"\n",
    "def map_emojis(text):\n",
    "    \"\"\"Convert emojis to their text representations.\"\"\"\n",
    "    text = emoji.demojize(text, delimiters=(\" \", \" \"))\n",
    "    # Replace underscores with spaces in emoji descriptions to avoid them being omitted during tokenization.\n",
    "    return text.replace('_', ' ')\n",
    "\n",
    "# Preprocessing function\n",
    "def preprocess_text(text):\n",
    "    \"\"\"Preprocess a single text string.\"\"\"\n",
    "    # Lowercase\n",
    "    text = text.lower()\n",
    "\n",
    "    # Convert emojis to text\n",
    "    text = map_emojis(text)\n",
    "\n",
    "    # Remove URLs and emails\n",
    "    text = re.sub(r'http\\S+|www.\\S+', '', text)\n",
    "    text = re.sub(r'\\S+@\\S+', '', text)\n",
    "\n",
    "    # Tokenization and Lemmatization using spaCy\n",
    "    doc = nlp(text)\n",
    "    tokens = [\n",
    "        token.lemma_ for token in doc\n",
    "        if not token.is_punct and not token.is_stop\n",
    "    ]\n",
    "\n",
    "    return ' '.join(tokens)\n",
    "\n",
    "tqdm.pandas(desc=\"Preprocessing Reviews\")\n",
    "df_processed[0] = df_processed[0].progress_apply(preprocess_text)\n",
    "\n",
    "print(df_processed)"
   ],
   "id": "58da8b749278aeb6",
   "outputs": [
    {
     "name": "stderr",
     "output_type": "stream",
     "text": [
      "[nltk_data] Downloading package stopwords to\n",
      "[nltk_data]     C:\\Users\\Philipp\\AppData\\Roaming\\nltk_data...\n",
      "[nltk_data]   Package stopwords is already up-to-date!\n",
      "[nltk_data] Downloading package punkt to\n",
      "[nltk_data]     C:\\Users\\Philipp\\AppData\\Roaming\\nltk_data...\n",
      "[nltk_data]   Package punkt is already up-to-date!\n",
      "Preprocessing Reviews: 100%|██████████| 99/99 [00:00<00:00, 168.32it/s]"
     ]
    },
    {
     "name": "stdout",
     "output_type": "stream",
     "text": [
      "                                                    0         1\n",
      "0   great music service audio high quality app eas...  positive\n",
      "1   ignore previous negative rating app super grea...  positive\n",
      "2   pop good spotify experience android 12 annoyin...  positive\n",
      "3                         buggy terrible use recently  negative\n",
      "4             dear spotify song playlist shuffle play  negative\n",
      "..                                                ...       ...\n",
      "94                   love spotify wish download music  positive\n",
      "95                            awesome great music app  positive\n",
      "96  work super work app not want load 3/4ths time ...  negative\n",
      "97  listen favorite song bc shuffle try different ...  negative\n",
      "98                            does'nt let choose song  negative\n",
      "\n",
      "[99 rows x 2 columns]\n"
     ]
    },
    {
     "name": "stderr",
     "output_type": "stream",
     "text": [
      "\n"
     ]
    }
   ],
   "execution_count": 62
  },
  {
   "metadata": {},
   "cell_type": "markdown",
   "source": "Train ",
   "id": "ca15d5e1f6795ed6"
  }
 ],
 "metadata": {
  "kernelspec": {
   "display_name": "Python 3",
   "language": "python",
   "name": "python3"
  },
  "language_info": {
   "codemirror_mode": {
    "name": "ipython",
    "version": 2
   },
   "file_extension": ".py",
   "mimetype": "text/x-python",
   "name": "python",
   "nbconvert_exporter": "python",
   "pygments_lexer": "ipython2",
   "version": "2.7.6"
  }
 },
 "nbformat": 4,
 "nbformat_minor": 5
}
