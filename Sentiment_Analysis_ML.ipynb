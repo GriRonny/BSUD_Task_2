{
 "cells": [
  {
   "metadata": {},
   "cell_type": "markdown",
   "source": "# Sentiment Analysis: Machine Learning Approach",
   "id": "79d64d030dc7afec"
  },
  {
   "metadata": {},
   "cell_type": "markdown",
   "source": "### Labeling:",
   "id": "46fa041f484c195e"
  },
  {
   "metadata": {
    "ExecuteTime": {
     "end_time": "2024-12-06T09:56:49.611957Z",
     "start_time": "2024-12-06T09:56:49.605512Z"
    }
   },
   "cell_type": "code",
   "source": [
    "import pandas as pd\n",
    "\n",
    "def review_labeling(data):\n",
    "    df = pd.read_csv(data, header=None)\n",
    "    \n",
    "    # Apply the condition only to the second column (index 1)\n",
    "    df[1] = df[1].apply(lambda x: 'positive' if x >= 4 else 'neutral' if 3 <= x < 4 else 'negative')\n",
    "    \n",
    "    return df\n",
    "\n",
    "df_processed = review_labeling('Data/ML/NOT.csv')\n",
    "print(df_processed)"
   ],
   "id": "6af255ba2d9f600d",
   "outputs": [
    {
     "name": "stdout",
     "output_type": "stream",
     "text": [
      "                                                   0         1\n",
      "0                              This app is not good.  negative\n",
      "1                 I never had any fun with this app.  negative\n",
      "2                                            No fun.  negative\n",
      "3  This was not awesome and I no longer love this...  negative\n"
     ]
    }
   ],
   "execution_count": 58
  },
  {
   "metadata": {},
   "cell_type": "markdown",
   "source": "### Preprocessing:",
   "id": "a7324fb0e980d02"
  },
  {
   "metadata": {
    "ExecuteTime": {
     "end_time": "2024-12-06T09:56:51.999061Z",
     "start_time": "2024-12-06T09:56:51.995496Z"
    }
   },
   "cell_type": "code",
   "source": [
    "import numpy as np\n",
    "import pandas as pd\n",
    "import spacy\n",
    "import emoji\n",
    "import re\n",
    "import nltk\n",
    "from tqdm import tqdm\n",
    "from nltk.sentiment.util import mark_negation\n"
   ],
   "id": "4f671242847a0436",
   "outputs": [],
   "execution_count": 59
  },
  {
   "metadata": {
    "ExecuteTime": {
     "end_time": "2024-12-06T09:56:55.636901Z",
     "start_time": "2024-12-06T09:56:55.160135Z"
    }
   },
   "cell_type": "code",
   "source": [
    "nltk.download('stopwords')\n",
    "nltk.download('punkt')\n",
    "\n",
    "# Load spaCy model\n",
    "nlp = spacy.load('en_core_web_sm')\n",
    "\n",
    "# Function to map emojis to text. E.g., \"Python is 👍\" is transformed to \"Python is :thumbs_up:\"\n",
    "def map_emojis(text):\n",
    "    \"\"\"Convert emojis to their text representations.\"\"\"\n",
    "    text = emoji.demojize(text, delimiters=(\" \", \" \"))\n",
    "    # Replace underscores with spaces in emoji descriptions to avoid them being omitted during tokenization.\n",
    "    return text.replace('_', ' ')\n",
    "\n",
    "# Preprocessing function\n",
    "def preprocess_text(text):\n",
    "    \"\"\"Preprocess a single text string.\"\"\"\n",
    "    # Lowercase\n",
    "    text = text.lower()\n",
    "\n",
    "    # Convert emojis to text\n",
    "    text = map_emojis(text)\n",
    "\n",
    "    # Remove URLs and emails\n",
    "    text = re.sub(r'http\\S+|www.\\S+', '', text)\n",
    "    text = re.sub(r'\\S+@\\S+', '', text)\n",
    "\n",
    "    # Tokenization and Lemmatization using spaCy\n",
    "    doc = nlp(text)\n",
    "    tokens = [\n",
    "        token.lemma_ for token in doc\n",
    "        if not token.is_punct and not token.is_stop\n",
    "    ]\n",
    "    \n",
    "    # Apply negation marking\n",
    "    tokens = mark_negation(tokens)\n",
    "\n",
    "    return ' '.join(tokens)\n",
    "\n",
    "tqdm.pandas(desc=\"Preprocessing Reviews\")\n",
    "df_processed[0] = df_processed[0].progress_apply(preprocess_text)\n",
    "\n",
    "print(df_processed)"
   ],
   "id": "58da8b749278aeb6",
   "outputs": [
    {
     "name": "stderr",
     "output_type": "stream",
     "text": [
      "[nltk_data] Downloading package stopwords to\n",
      "[nltk_data]     C:\\Users\\phili\\AppData\\Roaming\\nltk_data...\n",
      "[nltk_data]   Package stopwords is already up-to-date!\n",
      "[nltk_data] Downloading package punkt to\n",
      "[nltk_data]     C:\\Users\\phili\\AppData\\Roaming\\nltk_data...\n",
      "[nltk_data]   Package punkt is already up-to-date!\n",
      "Preprocessing Reviews: 100%|██████████| 4/4 [00:00<00:00, 215.75it/s]"
     ]
    },
    {
     "name": "stdout",
     "output_type": "stream",
     "text": [
      "                       0         1\n",
      "0               app good  negative\n",
      "1                fun app  negative\n",
      "2                    fun  negative\n",
      "3  awesome long love app  negative\n"
     ]
    },
    {
     "name": "stderr",
     "output_type": "stream",
     "text": [
      "\n"
     ]
    }
   ],
   "execution_count": 60
  },
  {
   "metadata": {},
   "cell_type": "markdown",
   "source": "### Train/Test Splitting:",
   "id": "ca15d5e1f6795ed6"
  },
  {
   "metadata": {
    "ExecuteTime": {
     "end_time": "2024-12-06T09:03:34.147454Z",
     "start_time": "2024-12-06T09:03:34.120769Z"
    }
   },
   "cell_type": "code",
   "source": [
    "from sklearn import model_selection as ms\n",
    "\n",
    "df_text = df_processed[0]\n",
    "df_target = df_processed[1]\n",
    "\n",
    "train_data, test_data, train_target, test_target = ms.train_test_split(df_text, df_target, test_size=0.2, random_state=993, stratify=df_target)\n",
    "\n",
    "print(test_target)\n"
   ],
   "id": "48172c99eee59048",
   "outputs": [
    {
     "name": "stdout",
     "output_type": "stream",
     "text": [
      "3158     negative\n",
      "2683     positive\n",
      "28634    negative\n",
      "3523     negative\n",
      "12701    positive\n",
      "           ...   \n",
      "25506     neutral\n",
      "25621    positive\n",
      "8370     positive\n",
      "37       positive\n",
      "12926    negative\n",
      "Name: 1, Length: 6000, dtype: object\n"
     ]
    }
   ],
   "execution_count": 28
  },
  {
   "metadata": {},
   "cell_type": "markdown",
   "source": "### Count Vectorizer:",
   "id": "7c1d5f3e6bef3bbe"
  },
  {
   "metadata": {
    "ExecuteTime": {
     "end_time": "2024-12-06T09:03:48.025395Z",
     "start_time": "2024-12-06T09:03:47.780757Z"
    }
   },
   "cell_type": "code",
   "source": [
    "from sklearn.feature_extraction.text import CountVectorizer\n",
    "\n",
    "cv = CountVectorizer()\n",
    "train_features = cv.fit_transform(train_data)\n",
    "\n",
    "print(train_features.shape)\n",
    "\n",
    "#print(train_features[:3])"
   ],
   "id": "8dd54b345d945020",
   "outputs": [
    {
     "name": "stdout",
     "output_type": "stream",
     "text": [
      "(24000, 11638)\n"
     ]
    }
   ],
   "execution_count": 29
  },
  {
   "metadata": {
    "ExecuteTime": {
     "end_time": "2024-12-06T09:03:51.062432Z",
     "start_time": "2024-12-06T09:03:51.056331Z"
    }
   },
   "cell_type": "code",
   "source": [
    "from sklearn.preprocessing import Binarizer\n",
    "\n",
    "transformer = Binarizer()\n",
    "train_bin = transformer.fit_transform(train_features)\n",
    "print(train_bin.shape)\n",
    "print(train_bin[0])"
   ],
   "id": "eae77d03570ae5c9",
   "outputs": [
    {
     "name": "stdout",
     "output_type": "stream",
     "text": [
      "(24000, 11638)\n",
      "<Compressed Sparse Row sparse matrix of dtype 'int64'\n",
      "\twith 7 stored elements and shape (1, 11638)>\n",
      "  Coords\tValues\n",
      "  (0, 4467)\t1\n",
      "  (0, 934)\t1\n",
      "  (0, 6699)\t1\n",
      "  (0, 544)\t1\n",
      "  (0, 8786)\t1\n",
      "  (0, 8760)\t1\n",
      "  (0, 5640)\t1\n"
     ]
    }
   ],
   "execution_count": 30
  },
  {
   "metadata": {},
   "cell_type": "markdown",
   "source": "## Classification Process",
   "id": "744f00257d819adf"
  },
  {
   "metadata": {
    "ExecuteTime": {
     "end_time": "2024-12-06T09:04:44.575906Z",
     "start_time": "2024-12-06T09:04:43.912258Z"
    }
   },
   "cell_type": "code",
   "source": [
    "from sklearn.naive_bayes import MultinomialNB\n",
    "from sklearn.pipeline import Pipeline\n",
    "from sklearn.metrics import confusion_matrix, classification_report, ConfusionMatrixDisplay\n",
    "\n",
    "text_clf = Pipeline([('vect', CountVectorizer(min_df=10, max_df=0.5)), \n",
    "                     ('binarizer', Binarizer()),\n",
    "                     ('clf', MultinomialNB()) # Classificiation\n",
    "                    ])\n",
    "\n",
    "text_clf.fit(train_data, train_target) \n",
    "print(text_clf)\n",
    "predicted = text_clf.predict(test_data)\n",
    "print(predicted)\n",
    "\n",
    "results = pd.DataFrame({\n",
    "    'Actual': test_target,\n",
    "    'Predicted': predicted\n",
    "})\n",
    "\n",
    "\n",
    "# Confusion Matrix\n",
    "conf_matrix = confusion_matrix(test_target, predicted)\n",
    "print(\"Confusion Matrix:\")\n",
    "\n",
    "# Display Confusion Matrix\n",
    "disp = ConfusionMatrixDisplay(confusion_matrix=conf_matrix, display_labels=text_clf.classes_)\n",
    "disp.plot()\n",
    "\n",
    "# Classification Report\n",
    "report = classification_report(test_target, predicted, target_names=text_clf.classes_)\n",
    "print(\"Classification Report:\")\n",
    "print(report)"
   ],
   "id": "239c221eed7c3f7e",
   "outputs": [
    {
     "name": "stdout",
     "output_type": "stream",
     "text": [
      "Pipeline(steps=[('vect', CountVectorizer(max_df=0.5, min_df=10)),\n",
      "                ('binarizer', Binarizer()), ('clf', MultinomialNB())])\n",
      "['negative' 'positive' 'neutral' ... 'positive' 'positive' 'negative']\n",
      "Confusion Matrix:\n",
      "Classification Report:\n",
      "              precision    recall  f1-score   support\n",
      "\n",
      "    negative       0.71      0.82      0.76      2144\n",
      "     neutral       0.25      0.13      0.17       621\n",
      "    positive       0.86      0.86      0.86      3235\n",
      "\n",
      "    accuracy                           0.77      6000\n",
      "   macro avg       0.61      0.60      0.60      6000\n",
      "weighted avg       0.75      0.77      0.75      6000\n",
      "\n"
     ]
    },
    {
     "data": {
      "text/plain": [
       "<Figure size 640x480 with 2 Axes>"
      ],
      "image/png": "[encoded data removed]"
     },
     "metadata": {},
     "output_type": "display_data"
    }
   ],
   "execution_count": 31
  },
  {
   "metadata": {
    "ExecuteTime": {
     "end_time": "2024-12-02T15:00:40.619795Z",
     "start_time": "2024-12-02T15:00:40.613501Z"
    }
   },
   "cell_type": "code",
   "source": "",
   "id": "8b677ada1f4f72e5",
   "outputs": [],
   "execution_count": 133
  }
 ],
 "metadata": {
  "kernelspec": {
   "display_name": "Python 3",
   "language": "python",
   "name": "python3"
  },
  "language_info": {
   "codemirror_mode": {
    "name": "ipython",
    "version": 2
   },
   "file_extension": ".py",
   "mimetype": "text/x-python",
   "name": "python",
   "nbconvert_exporter": "python",
   "pygments_lexer": "ipython2",
   "version": "2.7.6"
  }
 },
 "nbformat": 4,
 "nbformat_minor": 5
}
