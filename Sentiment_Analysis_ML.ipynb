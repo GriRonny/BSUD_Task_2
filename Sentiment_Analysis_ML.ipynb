{
 "cells": [
  {
   "metadata": {},
   "cell_type": "markdown",
   "source": [
    "# Sentiment Analysis: Machine Learning Approach\n",
    "This notebook explores a machine-learning-based sentiment analysis approach using the multinomial Naive Bayes (MultinomialNB) classifier."
   ],
   "id": "79d64d030dc7afec"
  },
  {
   "metadata": {},
   "cell_type": "markdown",
   "source": "## Import Libraries",
   "id": "37002f6d327e62f9"
  },
  {
   "metadata": {
    "ExecuteTime": {
     "end_time": "2024-12-10T19:26:14.894932Z",
     "start_time": "2024-12-10T19:26:14.879216Z"
    }
   },
   "cell_type": "code",
   "source": [
    "import numpy as np\n",
    "import pandas as pd\n",
    "import spacy\n",
    "import emoji\n",
    "import re\n",
    "import nltk # For downloading stopword lists and tokenization tools\n",
    "from tqdm import tqdm\n",
    "from nltk.sentiment.util import mark_negation\n",
    "from sklearn import model_selection as ms # Model_selection module from sklearn\n",
    "from sklearn.feature_extraction.text import CountVectorizer\n",
    "from sklearn.preprocessing import Binarizer\n",
    "from sklearn.naive_bayes import MultinomialNB\n",
    "from sklearn.pipeline import Pipeline\n",
    "from sklearn.metrics import confusion_matrix, classification_report, ConfusionMatrixDisplay"
   ],
   "id": "9117265b1fbcbf89",
   "outputs": [],
   "execution_count": 8
  },
  {
   "metadata": {},
   "cell_type": "markdown",
   "source": "### Review Labeling",
   "id": "46fa041f484c195e"
  },
  {
   "metadata": {
    "ExecuteTime": {
     "end_time": "2024-12-10T20:31:26.843036Z",
     "start_time": "2024-12-10T20:31:26.499799Z"
    }
   },
   "cell_type": "code",
   "source": [
    "def review_labeling(data):\n",
    "    df = pd.read_csv(data)\n",
    "    \n",
    "    # Apply the condition only to the second column (index 1)\n",
    "    df['Label'] = df['Label'].apply(lambda x: 'positive' if x >= 4 else 'neutral' if 3 <= x < 4 else 'negative')\n",
    "    \n",
    "    return df\n",
    "\n",
    "df_processed = review_labeling('Data/spotify_reviews_full.csv')\n",
    "\n",
    "print(df_processed)\n",
    "\n",
    "# Save labeled df as CSV file\n",
    "df_processed.to_csv('Data/reviews_label_origin.csv', index=False)"
   ],
   "id": "6af255ba2d9f600d",
   "outputs": [
    {
     "name": "stdout",
     "output_type": "stream",
     "text": [
      "                                                  Tokens     Label\n",
      "0      Great music service, the audio is high quality...  positive\n",
      "1      Please ignore previous negative rating. This a...  positive\n",
      "2      This pop-up \"Get the best Spotify experience o...  positive\n",
      "3        Really buggy and terrible to use as of recently  negative\n",
      "4      Dear Spotify why do I get songs that I didn't ...  negative\n",
      "...                                                  ...       ...\n",
      "61589  Even though it was communicated that lyrics fe...  negative\n",
      "61590  Use to be sooo good back when I had it, and wh...  negative\n",
      "61591  This app would be good if not for it taking ov...  negative\n",
      "61592  The app is good hard to navigate and won't jus...  negative\n",
      "61593  Its good but sometimes it doesnt load the musi...  positive\n",
      "\n",
      "[61594 rows x 2 columns]\n"
     ]
    }
   ],
   "execution_count": 32
  },
  {
   "metadata": {},
   "cell_type": "markdown",
   "source": "### Text Preprocessing",
   "id": "a7324fb0e980d02"
  },
  {
   "metadata": {
    "ExecuteTime": {
     "end_time": "2024-12-10T20:38:05.975406Z",
     "start_time": "2024-12-10T20:31:31.267803Z"
    }
   },
   "cell_type": "code",
   "source": [
    "# Download lists of common English stopwords and punctuation characters.\n",
    "nltk.download('stopwords')\n",
    "nltk.download('punkt')\n",
    "\n",
    "# Load spaCy model (English small)\n",
    "nlp = spacy.load('en_core_web_sm')\n",
    "\n",
    "# Function to map emojis to text. E.g., \"Python is 👍\" is transformed to \"Python is :thumbs_up:\"\n",
    "def map_emojis(text):\n",
    "    # Convert emojis to their text representations.\n",
    "    text = emoji.demojize(text, delimiters=(\" \", \" \"))\n",
    "    # Replace underscores with spaces in emoji descriptions to avoid them being omitted during tokenization.\n",
    "    return text.replace('_', ' ')\n",
    "\n",
    "# Preprocessing function\n",
    "def preprocess_text(text):\n",
    "    # Convert text to lowercase for normalization\n",
    "    text = text.lower()\n",
    "\n",
    "    # Convert emojis to text\n",
    "    text = map_emojis(text)\n",
    "\n",
    "    # Remove URLs and emails\n",
    "    text = re.sub(r'http\\S+|www.\\S+', '', text)\n",
    "    text = re.sub(r'\\S+@\\S+', '', text)\n",
    "\n",
    "    # Tokenization and Lemmatization using spaCy\n",
    "    doc = nlp(text)\n",
    "    tokens = [\n",
    "        token.lemma_ for token in doc\n",
    "        if not token.is_punct and not token.is_stop\n",
    "    ]\n",
    "    \n",
    "    # Apply negation marking\n",
    "    tokens = mark_negation(tokens)\n",
    "    \n",
    "    # Return the processed text as a space-separated string\n",
    "    return ' '.join(tokens)\n",
    "\n",
    "# Progress bars for pandas operations\n",
    "tqdm.pandas(desc=\"Preprocessing Reviews\")\n",
    "\n",
    "# Apply preprocessing to the \"Tokens\" column of the DataFrame (df_processed)\n",
    "df_processed[\"Tokens\"] = df_processed[\"Tokens\"].progress_apply(preprocess_text)\n",
    "\n",
    "# Print head of DataFrame after preprocessing\n",
    "print(df_processed.head())\n",
    "\n",
    "# Save the preprocessed DataFrame to a CSV file\n",
    "df_processed.to_csv('Data/reviews_preprocessed.csv', index=False)"
   ],
   "id": "58da8b749278aeb6",
   "outputs": [
    {
     "name": "stderr",
     "output_type": "stream",
     "text": [
      "[nltk_data] Downloading package stopwords to\n",
      "[nltk_data]     C:\\Users\\phili\\AppData\\Roaming\\nltk_data...\n",
      "[nltk_data]   Package stopwords is already up-to-date!\n",
      "[nltk_data] Downloading package punkt to\n",
      "[nltk_data]     C:\\Users\\phili\\AppData\\Roaming\\nltk_data...\n",
      "[nltk_data]   Package punkt is already up-to-date!\n",
      "Preprocessing Reviews: 100%|██████████| 61594/61594 [06:33<00:00, 156.40it/s]\n"
     ]
    },
    {
     "name": "stdout",
     "output_type": "stream",
     "text": [
      "                                              Tokens     Label\n",
      "0  great music service audio high quality app eas...  positive\n",
      "1  ignore previous negative rating app super grea...  positive\n",
      "2  pop good spotify experience android 12 annoyin...  positive\n",
      "3                        buggy terrible use recently  negative\n",
      "4            dear spotify song playlist shuffle play  negative\n"
     ]
    }
   ],
   "execution_count": 33
  },
  {
   "metadata": {},
   "cell_type": "markdown",
   "source": "### Train/Test Splitting",
   "id": "ca15d5e1f6795ed6"
  },
  {
   "metadata": {
    "ExecuteTime": {
     "end_time": "2024-12-10T20:39:35.178705Z",
     "start_time": "2024-12-10T20:39:35.129794Z"
    }
   },
   "cell_type": "code",
   "source": [
    "# Extract the tokens as the feature data\n",
    "df_text = df_processed[\"Tokens\"]\n",
    "\n",
    "# Extract the labels as the target data\n",
    "df_target = df_processed[\"Label\"]\n",
    "\n",
    "# Split the dataset into training and testing subsets (80/20 Split)\n",
    "train_data, test_data, train_target, test_target = ms.train_test_split(\n",
    "    df_text, \n",
    "    df_target, \n",
    "    test_size=0.2, # 20% of the data will be used for testing\n",
    "    random_state=993, # Seed for reproducibility of the split\n",
    "    stratify=df_target # Ensures the class distribution is maintained\n",
    ")\n",
    "\n",
    "# Print the test target labels for verification/debugging\n",
    "print(test_target)"
   ],
   "id": "48172c99eee59048",
   "outputs": [
    {
     "name": "stdout",
     "output_type": "stream",
     "text": [
      "30431    positive\n",
      "53118    positive\n",
      "30960    positive\n",
      "34324    positive\n",
      "59022    positive\n",
      "           ...   \n",
      "22075    positive\n",
      "23612    positive\n",
      "20156    negative\n",
      "51588    negative\n",
      "4962     negative\n",
      "Name: Label, Length: 12319, dtype: object\n"
     ]
    }
   ],
   "execution_count": 35
  },
  {
   "metadata": {},
   "cell_type": "markdown",
   "source": [
    "### Count Vectorizer\n",
    "Convert the text data into a bag-of-words representation using CountVectorizer, where each feature corresponds to a word in the vocabulary, and the value is the word's count in the document. This allows machine learning models to process textual data numerically, which captures  word usage patterns."
   ],
   "id": "7c1d5f3e6bef3bbe"
  },
  {
   "metadata": {
    "ExecuteTime": {
     "end_time": "2024-12-10T20:39:40.216810Z",
     "start_time": "2024-12-10T20:39:39.644622Z"
    }
   },
   "cell_type": "code",
   "source": [
    "# Initialize the CountVectorizer\n",
    "# This will convert text data into a bag-of-words representation\n",
    "cv = CountVectorizer()\n",
    "\n",
    "# Fit the vectorizer to the training data\n",
    "train_features = cv.fit_transform(train_data)\n",
    "\n",
    "# Print shape of resulting matrix\n",
    "print(train_features.shape)\n",
    "\n",
    "# Inspect first 3 rows of feature matrix\n",
    "print(train_features[:3])"
   ],
   "id": "8dd54b345d945020",
   "outputs": [
    {
     "name": "stdout",
     "output_type": "stream",
     "text": [
      "(49275, 20489)\n",
      "<Compressed Sparse Row sparse matrix of dtype 'int64'\n",
      "\twith 45 stored elements and shape (3, 20489)>\n",
      "  Coords\tValues\n",
      "  (0, 4427)\t1\n",
      "  (0, 14768)\t1\n",
      "  (0, 13765)\t1\n",
      "  (0, 6805)\t1\n",
      "  (0, 19452)\t1\n",
      "  (0, 984)\t1\n",
      "  (0, 16404)\t1\n",
      "  (0, 13350)\t1\n",
      "  (0, 10906)\t1\n",
      "  (0, 1693)\t2\n",
      "  (0, 2239)\t1\n",
      "  (0, 19477)\t1\n",
      "  (0, 8796)\t1\n",
      "  (0, 5156)\t1\n",
      "  (0, 7634)\t1\n",
      "  (0, 6981)\t1\n",
      "  (1, 19452)\t1\n",
      "  (1, 1693)\t2\n",
      "  (1, 11900)\t1\n",
      "  (1, 5846)\t1\n",
      "  (1, 19520)\t1\n",
      "  (1, 3743)\t1\n",
      "  (1, 7135)\t1\n",
      "  (1, 16906)\t1\n",
      "  (1, 15752)\t1\n",
      "  (1, 13178)\t2\n",
      "  (1, 8764)\t1\n",
      "  (1, 16814)\t1\n",
      "  (1, 10648)\t1\n",
      "  (1, 10367)\t1\n",
      "  (1, 19584)\t1\n",
      "  (1, 12541)\t1\n",
      "  (1, 7408)\t1\n",
      "  (1, 15981)\t1\n",
      "  (1, 14945)\t1\n",
      "  (1, 18251)\t1\n",
      "  (1, 15262)\t1\n",
      "  (1, 4560)\t1\n",
      "  (1, 12490)\t1\n",
      "  (2, 2239)\t1\n",
      "  (2, 5286)\t1\n",
      "  (2, 19567)\t1\n",
      "  (2, 11720)\t1\n",
      "  (2, 14942)\t1\n",
      "  (2, 2152)\t1\n"
     ]
    }
   ],
   "execution_count": 36
  },
  {
   "metadata": {},
   "cell_type": "markdown",
   "source": [
    "### Binarization\n",
    "Apply Binarizer to transform the word count features into binary values, where each feature is set to 1 if the count exceeds the threshold (default 0) and 0 otherwise. This can help reduce noise and simplify the feature space for certain models."
   ],
   "id": "949b1a8586ced2a0"
  },
  {
   "metadata": {
    "ExecuteTime": {
     "end_time": "2024-12-10T20:39:43.683899Z",
     "start_time": "2024-12-10T20:39:43.674776Z"
    }
   },
   "cell_type": "code",
   "source": [
    "# Initialize the Binarizer\n",
    "# This will threshold feature values, which converts them to binary (0 or 1)\n",
    "transformer = Binarizer()\n",
    "\n",
    "# Fit the Binarizer to the training features -> binary representation\n",
    "train_bin = transformer.fit_transform(train_features)\n",
    "\n",
    "# Print shape of resulting matrix\n",
    "print(train_bin.shape)\n",
    "\n",
    "# Print the first row of the binary matrix\n",
    "print(train_bin[0])"
   ],
   "id": "eae77d03570ae5c9",
   "outputs": [
    {
     "name": "stdout",
     "output_type": "stream",
     "text": [
      "(49275, 20489)\n",
      "<Compressed Sparse Row sparse matrix of dtype 'int64'\n",
      "\twith 16 stored elements and shape (1, 20489)>\n",
      "  Coords\tValues\n",
      "  (0, 4427)\t1\n",
      "  (0, 14768)\t1\n",
      "  (0, 13765)\t1\n",
      "  (0, 6805)\t1\n",
      "  (0, 19452)\t1\n",
      "  (0, 984)\t1\n",
      "  (0, 16404)\t1\n",
      "  (0, 13350)\t1\n",
      "  (0, 10906)\t1\n",
      "  (0, 1693)\t1\n",
      "  (0, 2239)\t1\n",
      "  (0, 19477)\t1\n",
      "  (0, 8796)\t1\n",
      "  (0, 5156)\t1\n",
      "  (0, 7634)\t1\n",
      "  (0, 6981)\t1\n"
     ]
    }
   ],
   "execution_count": 37
  },
  {
   "metadata": {},
   "cell_type": "markdown",
   "source": "## Classification Process",
   "id": "744f00257d819adf"
  },
  {
   "metadata": {
    "ExecuteTime": {
     "end_time": "2024-12-10T20:39:49.482961Z",
     "start_time": "2024-12-10T20:39:48.735522Z"
    }
   },
   "cell_type": "code",
   "source": [
    "# Create a machine learning pipeline with three main components.\n",
    "text_clf = Pipeline([\n",
    "    # Convert text into bag-of-words representation \n",
    "    # min_df=10 -> ignore words in fewer than 10 documents, max_df=0.5 -> Ignore words that appear in more than 50% of documents\n",
    "    ('vect', CountVectorizer(min_df=10, max_df=0.5)),  \n",
    "    # Apply binarization\n",
    "    ('binarizer', Binarizer()),\n",
    "    # Use Multinomial NB for classification\n",
    "    ('clf', MultinomialNB())\n",
    "])\n",
    "\n",
    "# Train the pipeline on the training data\n",
    "text_clf.fit(train_data, train_target)\n",
    "\n",
    "# Predict the labels for the test data using the trained pipeline\n",
    "predicted = text_clf.predict(test_data)\n",
    "\n",
    "# Create a DataFrame to compare the actual and predicted labels (optional)\n",
    "# results = pd.DataFrame({\n",
    "#    'Actual': test_target,\n",
    "#    'Predicted': predicted\n",
    "#})"
   ],
   "id": "88d33df87e1d1adf",
   "outputs": [],
   "execution_count": 38
  },
  {
   "metadata": {},
   "cell_type": "markdown",
   "source": "### Confustion Matrix",
   "id": "9a5ee957488daafc"
  },
  {
   "metadata": {
    "ExecuteTime": {
     "end_time": "2024-12-10T20:39:53.707541Z",
     "start_time": "2024-12-10T20:39:53.397391Z"
    }
   },
   "cell_type": "code",
   "source": [
    "# Generate confusion matrix to evaluate classification performance\n",
    "conf_matrix = confusion_matrix(test_target, predicted)\n",
    "print(\"Confusion Matrix:\")\n",
    "\n",
    "# Display confusion matrix\n",
    "disp = ConfusionMatrixDisplay(confusion_matrix=conf_matrix, display_labels=text_clf.classes_)\n",
    "disp.plot()\n",
    "\n",
    "# Generate classification report \n",
    "report = classification_report(test_target, predicted, target_names=text_clf.classes_)\n",
    "print(\"Classification Report:\")\n",
    "print(report)"
   ],
   "id": "239c221eed7c3f7e",
   "outputs": [
    {
     "name": "stdout",
     "output_type": "stream",
     "text": [
      "Confusion Matrix:\n",
      "Classification Report:\n",
      "              precision    recall  f1-score   support\n",
      "\n",
      "    negative       0.73      0.81      0.77      4954\n",
      "     neutral       0.28      0.15      0.20      1377\n",
      "    positive       0.83      0.84      0.83      5988\n",
      "\n",
      "    accuracy                           0.75     12319\n",
      "   macro avg       0.61      0.60      0.60     12319\n",
      "weighted avg       0.73      0.75      0.74     12319\n",
      "\n"
     ]
    },
    {
     "data": {
      "text/plain": [
       "<Figure size 640x480 with 2 Axes>"
      ],
      "image/png": "[encoded data removed]"
     },
     "metadata": {},
     "output_type": "display_data"
    }
   ],
   "execution_count": 39
  }
 ],
 "metadata": {
  "kernelspec": {
   "display_name": "Python 3",
   "language": "python",
   "name": "python3"
  },
  "language_info": {
   "codemirror_mode": {
    "name": "ipython",
    "version": 2
   },
   "file_extension": ".py",
   "mimetype": "text/x-python",
   "name": "python",
   "nbconvert_exporter": "python",
   "pygments_lexer": "ipython2",
   "version": "2.7.6"
  }
 },
 "nbformat": 4,
 "nbformat_minor": 5
}
