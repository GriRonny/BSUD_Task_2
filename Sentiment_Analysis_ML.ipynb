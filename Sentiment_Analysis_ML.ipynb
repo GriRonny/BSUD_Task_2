{
 "cells": [
  {
   "metadata": {},
   "cell_type": "markdown",
   "source": [
    "# Sentiment Analysis: Machine Learning Approach\n",
    "This notebook explores a machine-learning-based sentiment analysis approach using the multinomial Naive Bayes (MultinomialNB) classifier."
   ],
   "id": "79d64d030dc7afec"
  },
  {
   "metadata": {},
   "cell_type": "markdown",
   "source": "## Import Libraries",
   "id": "37002f6d327e62f9"
  },
  {
   "metadata": {
    "ExecuteTime": {
     "end_time": "2024-12-10T19:26:14.894932Z",
     "start_time": "2024-12-10T19:26:14.879216Z"
    }
   },
   "cell_type": "code",
   "source": [
    "import numpy as np\n",
    "import pandas as pd\n",
    "import spacy\n",
    "import emoji\n",
    "import re\n",
    "import nltk # For downloading stopword lists and tokenization tools\n",
    "from tqdm import tqdm\n",
    "from nltk.sentiment.util import mark_negation\n",
    "from sklearn import model_selection as ms # Model_selection module from sklearn\n",
    "from sklearn.feature_extraction.text import CountVectorizer\n",
    "from sklearn.preprocessing import Binarizer\n",
    "from sklearn.naive_bayes import MultinomialNB\n",
    "from sklearn.pipeline import Pipeline\n",
    "from sklearn.metrics import confusion_matrix, classification_report, ConfusionMatrixDisplay"
   ],
   "id": "9117265b1fbcbf89",
   "outputs": [],
   "execution_count": 8
  },
  {
   "metadata": {},
   "cell_type": "markdown",
   "source": "### Review Labeling",
   "id": "46fa041f484c195e"
  },
  {
   "metadata": {
    "ExecuteTime": {
     "end_time": "2024-12-10T19:36:28.475614Z",
     "start_time": "2024-12-10T19:36:28.128978Z"
    }
   },
   "cell_type": "code",
   "source": [
    "def review_labeling(data):\n",
    "    df = pd.read_csv(data, header=None)\n",
    "    \n",
    "    # Apply the condition only to the second column (index 1)\n",
    "    df[1] = df[1].apply(lambda x: 'positive' if x >= 4 else 'neutral' if 3 <= x < 4 else 'negative')\n",
    "    \n",
    "    return df\n",
    "\n",
    "df_processed = review_labeling('Data/spotify_reviews_full.csv')\n",
    "# Add headers to columns\n",
    "df_processed.columns = [\"Tokens\", \"Label\"]\n",
    "print(df_processed.head()) # Print first 5 rows\n",
    "df_processed.to_csv('Data/reviews_label_origin.csv', index=False)"
   ],
   "id": "6af255ba2d9f600d",
   "outputs": [
    {
     "name": "stdout",
     "output_type": "stream",
     "text": [
      "                                              Tokens     Label\n",
      "0  Great music service, the audio is high quality...  positive\n",
      "1  Please ignore previous negative rating. This a...  positive\n",
      "2  This pop-up \"Get the best Spotify experience o...  positive\n",
      "3    Really buggy and terrible to use as of recently  negative\n",
      "4  Dear Spotify why do I get songs that I didn't ...  negative\n"
     ]
    }
   ],
   "execution_count": 12
  },
  {
   "metadata": {},
   "cell_type": "markdown",
   "source": "### Text Preprocessing",
   "id": "a7324fb0e980d02"
  },
  {
   "metadata": {
    "ExecuteTime": {
     "end_time": "2024-12-10T19:33:02.392831Z",
     "start_time": "2024-12-10T19:26:24.689763Z"
    }
   },
   "cell_type": "code",
   "source": [
    "# Download lists of common English stopwords and punctuation characters.\n",
    "nltk.download('stopwords')\n",
    "nltk.download('punkt')\n",
    "\n",
    "# Load spaCy model (English small)\n",
    "nlp = spacy.load('en_core_web_sm')\n",
    "\n",
    "# Function to map emojis to text. E.g., \"Python is 👍\" is transformed to \"Python is :thumbs_up:\"\n",
    "def map_emojis(text):\n",
    "    # Convert emojis to their text representations.\n",
    "    text = emoji.demojize(text, delimiters=(\" \", \" \"))\n",
    "    # Replace underscores with spaces in emoji descriptions to avoid them being omitted during tokenization.\n",
    "    return text.replace('_', ' ')\n",
    "\n",
    "# Preprocessing function\n",
    "def preprocess_text(text):\n",
    "    # Convert text to lowercase for normalization\n",
    "    text = text.lower()\n",
    "\n",
    "    # Convert emojis to text\n",
    "    text = map_emojis(text)\n",
    "\n",
    "    # Remove URLs and emails\n",
    "    text = re.sub(r'http\\S+|www.\\S+', '', text)\n",
    "    text = re.sub(r'\\S+@\\S+', '', text)\n",
    "\n",
    "    # Tokenization and Lemmatization using spaCy\n",
    "    doc = nlp(text)\n",
    "    tokens = [\n",
    "        token.lemma_ for token in doc\n",
    "        if not token.is_punct and not token.is_stop\n",
    "    ]\n",
    "    \n",
    "    # Apply negation marking\n",
    "    tokens = mark_negation(tokens)\n",
    "    \n",
    "    # Return the processed text as a space-separated string\n",
    "    return ' '.join(tokens)\n",
    "\n",
    "# Progress bars for pandas operations\n",
    "tqdm.pandas(desc=\"Preprocessing Reviews\")\n",
    "\n",
    "# Apply preprocessing to the \"Tokens\" column of the DataFrame (df_processed)\n",
    "df_processed[\"Tokens\"] = df_processed[\"Tokens\"].progress_apply(preprocess_text)\n",
    "\n",
    "# Print head of DataFrame after preprocessing\n",
    "print(df_processed.head())\n",
    "\n",
    "# Save the preprocessed DataFrame to a CSV file\n",
    "df_processed.to_csv('Data/reviews_preprocessed.csv', index=False)"
   ],
   "id": "58da8b749278aeb6",
   "outputs": [
    {
     "name": "stderr",
     "output_type": "stream",
     "text": [
      "[nltk_data] Downloading package stopwords to\n",
      "[nltk_data]     C:\\Users\\phili\\AppData\\Roaming\\nltk_data...\n",
      "[nltk_data]   Package stopwords is already up-to-date!\n",
      "[nltk_data] Downloading package punkt to\n",
      "[nltk_data]     C:\\Users\\phili\\AppData\\Roaming\\nltk_data...\n",
      "[nltk_data]   Package punkt is already up-to-date!\n",
      "Preprocessing Reviews: 100%|██████████| 61594/61594 [06:37<00:00, 155.09it/s]\n"
     ]
    },
    {
     "name": "stdout",
     "output_type": "stream",
     "text": [
      "                                              Tokens     Label\n",
      "0  great music service audio high quality app eas...  positive\n",
      "1  ignore previous negative rating app super grea...  positive\n",
      "2  pop good spotify experience android 12 annoyin...  positive\n",
      "3                        buggy terrible use recently  negative\n",
      "4            dear spotify song playlist shuffle play  negative\n"
     ]
    }
   ],
   "execution_count": 10
  },
  {
   "metadata": {},
   "cell_type": "markdown",
   "source": "### Train/Test Splitting",
   "id": "ca15d5e1f6795ed6"
  },
  {
   "metadata": {
    "ExecuteTime": {
     "end_time": "2024-12-10T19:39:16.764743Z",
     "start_time": "2024-12-10T19:39:16.721756Z"
    }
   },
   "cell_type": "code",
   "source": [
    "# Extract the tokens as the feature data\n",
    "df_text = df_processed[\"Tokens\"]\n",
    "\n",
    "# Extract the labels as the target data\n",
    "df_target = df_processed[\"Label\"]\n",
    "\n",
    "# Split the dataset into training and testing subsets (80/20 Split)\n",
    "train_data, test_data, train_target, test_target = ms.train_test_split(\n",
    "    df_text, \n",
    "    df_target, \n",
    "    test_size=0.2, # 20% of the data will be used for testing\n",
    "    random_state=993, # Seed for reproducibility of the split\n",
    "    stratify=df_target # Ensures the class distribution is maintained\n",
    ")\n",
    "\n",
    "# Print the test target labels for verification/debugging\n",
    "print(test_target)\n"
   ],
   "id": "48172c99eee59048",
   "outputs": [
    {
     "name": "stdout",
     "output_type": "stream",
     "text": [
      "30431    positive\n",
      "53118    positive\n",
      "30960    positive\n",
      "34324    positive\n",
      "59022    positive\n",
      "           ...   \n",
      "22075    positive\n",
      "23612    positive\n",
      "20156    negative\n",
      "51588    negative\n",
      "4962     negative\n",
      "Name: Label, Length: 12319, dtype: object\n"
     ]
    }
   ],
   "execution_count": 15
  },
  {
   "metadata": {},
   "cell_type": "markdown",
   "source": [
    "### Count Vectorizer\n",
    "Convert the text data into a bag-of-words representation using CountVectorizer, where each feature corresponds to a word in the vocabulary, and the value is the word's count in the document. This allows machine learning models to process textual data numerically, which captures  word usage patterns."
   ],
   "id": "7c1d5f3e6bef3bbe"
  },
  {
   "metadata": {
    "ExecuteTime": {
     "end_time": "2024-12-10T19:39:21.376312Z",
     "start_time": "2024-12-10T19:39:20.385526Z"
    }
   },
   "cell_type": "code",
   "source": [
    "# Initialize the CountVectorizer\n",
    "# This will convert text data into a bag-of-words representation\n",
    "cv = CountVectorizer()\n",
    "\n",
    "# Fit the vectorizer to the training data\n",
    "train_features = cv.fit_transform(train_data)\n",
    "\n",
    "# Print shape of resulting matrix\n",
    "print(train_features.shape)\n",
    "\n",
    "# Inspect first 3 rows of feature matrix\n",
    "print(train_features[:3])"
   ],
   "id": "8dd54b345d945020",
   "outputs": [
    {
     "name": "stdout",
     "output_type": "stream",
     "text": [
      "(49275, 21416)\n",
      "<Compressed Sparse Row sparse matrix of dtype 'int64'\n",
      "\twith 84 stored elements and shape (3, 21416)>\n",
      "  Coords\tValues\n",
      "  (0, 18558)\t3\n",
      "  (0, 1496)\t1\n",
      "  (0, 12845)\t1\n",
      "  (0, 4689)\t1\n",
      "  (0, 18580)\t1\n",
      "  (0, 15443)\t1\n",
      "  (0, 14324)\t1\n",
      "  (0, 7211)\t1\n",
      "  (0, 20562)\t1\n",
      "  (0, 21068)\t1\n",
      "  (0, 20367)\t1\n",
      "  (0, 18873)\t2\n",
      "  (0, 990)\t1\n",
      "  (0, 17221)\t1\n",
      "  (0, 13900)\t1\n",
      "  (0, 9998)\t3\n",
      "  (0, 10274)\t1\n",
      "  (0, 11387)\t1\n",
      "  (0, 1717)\t2\n",
      "  (0, 20832)\t1\n",
      "  (0, 18530)\t1\n",
      "  (0, 1407)\t1\n",
      "  (0, 20396)\t1\n",
      "  (0, 9260)\t1\n",
      "  (0, 19940)\t1\n",
      "  :\t:\n",
      "  (1, 3355)\t1\n",
      "  (1, 6705)\t1\n",
      "  (1, 16776)\t1\n",
      "  (1, 12848)\t1\n",
      "  (1, 13069)\t1\n",
      "  (1, 15653)\t1\n",
      "  (1, 20732)\t1\n",
      "  (1, 19208)\t1\n",
      "  (1, 16014)\t1\n",
      "  (1, 5869)\t1\n",
      "  (1, 4830)\t1\n",
      "  (1, 8676)\t1\n",
      "  (1, 13004)\t1\n",
      "  (2, 18558)\t2\n",
      "  (2, 9951)\t1\n",
      "  (2, 5607)\t1\n",
      "  (2, 20489)\t1\n",
      "  (2, 8133)\t1\n",
      "  (2, 2284)\t1\n",
      "  (2, 12227)\t1\n",
      "  (2, 7562)\t1\n",
      "  (2, 12092)\t1\n",
      "  (2, 13423)\t1\n",
      "  (2, 15651)\t1\n",
      "  (2, 2199)\t1\n"
     ]
    }
   ],
   "execution_count": 16
  },
  {
   "metadata": {},
   "cell_type": "markdown",
   "source": [
    "### Binarization\n",
    "Apply Binarizer to transform the word count features into binary values, where each feature is set to 1 if the count exceeds the threshold (default 0) and 0 otherwise. This can help reduce noise and simplify the feature space for certain models."
   ],
   "id": "949b1a8586ced2a0"
  },
  {
   "metadata": {
    "ExecuteTime": {
     "end_time": "2024-12-10T19:39:33.667501Z",
     "start_time": "2024-12-10T19:39:33.655868Z"
    }
   },
   "cell_type": "code",
   "source": [
    "# Initialize the Binarizer\n",
    "# This will threshold feature values, which converts them to binary (0 or 1)\n",
    "transformer = Binarizer()\n",
    "\n",
    "# Fit the Binarizer to the training features -> binary representation\n",
    "train_bin = transformer.fit_transform(train_features)\n",
    "\n",
    "# Print shape of resulting matrix\n",
    "print(train_bin.shape)\n",
    "\n",
    "# Print the first row of the binary matrix\n",
    "print(train_bin[0])"
   ],
   "id": "eae77d03570ae5c9",
   "outputs": [
    {
     "name": "stdout",
     "output_type": "stream",
     "text": [
      "(49275, 21416)\n",
      "<Compressed Sparse Row sparse matrix of dtype 'int64'\n",
      "\twith 29 stored elements and shape (1, 21416)>\n",
      "  Coords\tValues\n",
      "  (0, 18558)\t1\n",
      "  (0, 1496)\t1\n",
      "  (0, 12845)\t1\n",
      "  (0, 4689)\t1\n",
      "  (0, 18580)\t1\n",
      "  (0, 15443)\t1\n",
      "  (0, 14324)\t1\n",
      "  (0, 7211)\t1\n",
      "  (0, 20562)\t1\n",
      "  (0, 21068)\t1\n",
      "  (0, 20367)\t1\n",
      "  (0, 18873)\t1\n",
      "  (0, 990)\t1\n",
      "  (0, 17221)\t1\n",
      "  (0, 13900)\t1\n",
      "  (0, 9998)\t1\n",
      "  (0, 10274)\t1\n",
      "  (0, 11387)\t1\n",
      "  (0, 1717)\t1\n",
      "  (0, 20832)\t1\n",
      "  (0, 18530)\t1\n",
      "  (0, 1407)\t1\n",
      "  (0, 20396)\t1\n",
      "  (0, 9260)\t1\n",
      "  (0, 19940)\t1\n",
      "  (0, 5459)\t1\n",
      "  (0, 19785)\t1\n",
      "  (0, 8071)\t1\n",
      "  (0, 7412)\t1\n"
     ]
    }
   ],
   "execution_count": 17
  },
  {
   "metadata": {},
   "cell_type": "markdown",
   "source": "## Classification Process",
   "id": "744f00257d819adf"
  },
  {
   "metadata": {
    "ExecuteTime": {
     "end_time": "2024-12-10T19:39:41.353126Z",
     "start_time": "2024-12-10T19:39:40.087618Z"
    }
   },
   "cell_type": "code",
   "source": [
    "# Create a machine learning pipeline with three main components.\n",
    "text_clf = Pipeline([\n",
    "    # Convert text into bag-of-words representation \n",
    "    # min_df=10 -> ignore words in fewer than 10 documents, max_df=0.5 -> Ignore words that appear in more than 50% of documents\n",
    "    ('vect', CountVectorizer(min_df=10, max_df=0.5)),  \n",
    "    # Apply binarization\n",
    "    ('binarizer', Binarizer()),\n",
    "    # Use Multinomial NB for classification\n",
    "    ('clf', MultinomialNB())\n",
    "])\n",
    "\n",
    "# Train the pipeline on the training data\n",
    "text_clf.fit(train_data, train_target)\n",
    "\n",
    "# Predict the labels for the test data using the trained pipeline\n",
    "predicted = text_clf.predict(test_data)\n",
    "\n",
    "# Create a DataFrame to compare the actual and predicted labels (optional)\n",
    "# results = pd.DataFrame({\n",
    "#    'Actual': test_target,\n",
    "#    'Predicted': predicted\n",
    "#})"
   ],
   "id": "88d33df87e1d1adf",
   "outputs": [],
   "execution_count": 18
  },
  {
   "metadata": {},
   "cell_type": "markdown",
   "source": "### Confustion Matrix",
   "id": "9a5ee957488daafc"
  },
  {
   "metadata": {
    "ExecuteTime": {
     "end_time": "2024-12-10T19:39:58.364492Z",
     "start_time": "2024-12-10T19:39:58.033896Z"
    }
   },
   "cell_type": "code",
   "source": [
    "# Generate confusion matrix to evaluate classification performance\n",
    "conf_matrix = confusion_matrix(test_target, predicted)\n",
    "print(\"Confusion Matrix:\")\n",
    "\n",
    "# Display confusion matrix\n",
    "disp = ConfusionMatrixDisplay(confusion_matrix=conf_matrix, display_labels=text_clf.classes_)\n",
    "disp.plot()\n",
    "\n",
    "# Generate classification report \n",
    "report = classification_report(test_target, predicted, target_names=text_clf.classes_)\n",
    "print(\"Classification Report:\")\n",
    "print(report)"
   ],
   "id": "239c221eed7c3f7e",
   "outputs": [
    {
     "name": "stdout",
     "output_type": "stream",
     "text": [
      "Confusion Matrix:\n",
      "Classification Report:\n",
      "              precision    recall  f1-score   support\n",
      "\n",
      "    negative       0.75      0.81      0.78      4954\n",
      "     neutral       0.29      0.20      0.24      1377\n",
      "    positive       0.84      0.84      0.84      5988\n",
      "\n",
      "    accuracy                           0.76     12319\n",
      "   macro avg       0.63      0.62      0.62     12319\n",
      "weighted avg       0.74      0.76      0.75     12319\n",
      "\n"
     ]
    },
    {
     "data": {
      "text/plain": [
       "<Figure size 640x480 with 2 Axes>"
      ],
      "image/png": "[encoded data removed]"
     },
     "metadata": {},
     "output_type": "display_data"
    }
   ],
   "execution_count": 19
  },
  {
   "metadata": {},
   "cell_type": "code",
   "outputs": [],
   "execution_count": null,
   "source": "",
   "id": "b35b71cc394fbf1"
  }
 ],
 "metadata": {
  "kernelspec": {
   "display_name": "Python 3",
   "language": "python",
   "name": "python3"
  },
  "language_info": {
   "codemirror_mode": {
    "name": "ipython",
    "version": 2
   },
   "file_extension": ".py",
   "mimetype": "text/x-python",
   "name": "python",
   "nbconvert_exporter": "python",
   "pygments_lexer": "ipython2",
   "version": "2.7.6"
  }
 },
 "nbformat": 4,
 "nbformat_minor": 5
}
