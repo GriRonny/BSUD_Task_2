{
 "cells": [
  {
   "metadata": {},
   "cell_type": "markdown",
   "source": "# Sentiment Analysis: Machine Learning Approach",
   "id": "79d64d030dc7afec"
  },
  {
   "metadata": {},
   "cell_type": "markdown",
   "source": "### Labeling:",
   "id": "46fa041f484c195e"
  },
  {
   "metadata": {
    "ExecuteTime": {
     "end_time": "2024-12-02T14:58:31.803761Z",
     "start_time": "2024-12-02T14:58:31.727056Z"
    }
   },
   "cell_type": "code",
   "source": [
    "import pandas as pd\n",
    "\n",
    "def review_labeling(data):\n",
    "    df = pd.read_csv(data, header=None)\n",
    "    \n",
    "    # Apply the condition only to the second column (index 1)\n",
    "    df[1] = df[1].apply(lambda x: 'positive' if x >= 4 else 'neutral' if 3 <= x < 4 else 'negative')\n",
    "    \n",
    "    return df\n",
    "\n",
    "df_processed = review_labeling('Data/ML/reviews_ML_lightweight.csv')\n",
    "print(df_processed)"
   ],
   "id": "6af255ba2d9f600d",
   "outputs": [
    {
     "name": "stdout",
     "output_type": "stream",
     "text": [
      "                                                      0         1\n",
      "0     Great music service, the audio is high quality...  positive\n",
      "1     Please ignore previous negative rating. This a...  positive\n",
      "2     This pop-up \"Get the best Spotify experience o...  positive\n",
      "3       Really buggy and terrible to use as of recently  negative\n",
      "4     Dear Spotify why do I get songs that I didn't ...  negative\n",
      "...                                                 ...       ...\n",
      "9995  Please make sure that the panels don't lag on ...   neutral\n",
      "9996  This app has become a problem, why do you alwa...  negative\n",
      "9997  The app is good, but the lyric won't show for ...  positive\n",
      "9998  Good App..Doesn't have ads between songs and h...  positive\n",
      "9999  Impossible to use on lock screen anymore. Trie...  negative\n",
      "\n",
      "[10000 rows x 2 columns]\n"
     ]
    }
   ],
   "execution_count": 127
  },
  {
   "metadata": {},
   "cell_type": "markdown",
   "source": "### Preprocessing:",
   "id": "a7324fb0e980d02"
  },
  {
   "metadata": {
    "ExecuteTime": {
     "end_time": "2024-12-02T14:58:31.817110Z",
     "start_time": "2024-12-02T14:58:31.803761Z"
    }
   },
   "cell_type": "code",
   "source": [
    "import numpy as np\n",
    "import pandas as pd\n",
    "import spacy\n",
    "import emoji\n",
    "import re\n",
    "import nltk\n",
    "from tqdm import tqdm\n"
   ],
   "id": "4f671242847a0436",
   "outputs": [],
   "execution_count": 128
  },
  {
   "metadata": {
    "ExecuteTime": {
     "end_time": "2024-12-02T15:00:39.980158Z",
     "start_time": "2024-12-02T14:58:31.832870Z"
    }
   },
   "cell_type": "code",
   "source": [
    "nltk.download('stopwords')\n",
    "nltk.download('punkt')\n",
    "\n",
    "# Load spaCy model\n",
    "nlp = spacy.load('en_core_web_sm')\n",
    "\n",
    "# Function to map emojis to text. E.g., \"Python is 👍\" is transformed to \"Python is :thumbs_up:\"\n",
    "def map_emojis(text):\n",
    "    \"\"\"Convert emojis to their text representations.\"\"\"\n",
    "    text = emoji.demojize(text, delimiters=(\" \", \" \"))\n",
    "    # Replace underscores with spaces in emoji descriptions to avoid them being omitted during tokenization.\n",
    "    return text.replace('_', ' ')\n",
    "\n",
    "# Preprocessing function\n",
    "def preprocess_text(text):\n",
    "    \"\"\"Preprocess a single text string.\"\"\"\n",
    "    # Lowercase\n",
    "    text = text.lower()\n",
    "\n",
    "    # Convert emojis to text\n",
    "    text = map_emojis(text)\n",
    "\n",
    "    # Remove URLs and emails\n",
    "    text = re.sub(r'http\\S+|www.\\S+', '', text)\n",
    "    text = re.sub(r'\\S+@\\S+', '', text)\n",
    "\n",
    "    # Tokenization and Lemmatization using spaCy\n",
    "    doc = nlp(text)\n",
    "    tokens = [\n",
    "        token.lemma_ for token in doc\n",
    "        if not token.is_punct and not token.is_stop\n",
    "    ]\n",
    "\n",
    "    return ' '.join(tokens)\n",
    "\n",
    "tqdm.pandas(desc=\"Preprocessing Reviews\")\n",
    "df_processed[0] = df_processed[0].progress_apply(preprocess_text)\n",
    "\n",
    "print(df_processed)"
   ],
   "id": "58da8b749278aeb6",
   "outputs": [
    {
     "name": "stderr",
     "output_type": "stream",
     "text": [
      "[nltk_data] Downloading package stopwords to\n",
      "[nltk_data]     C:\\Users\\Philipp\\AppData\\Roaming\\nltk_data...\n",
      "[nltk_data]   Package stopwords is already up-to-date!\n",
      "[nltk_data] Downloading package punkt to\n",
      "[nltk_data]     C:\\Users\\Philipp\\AppData\\Roaming\\nltk_data...\n",
      "[nltk_data]   Package punkt is already up-to-date!\n",
      "Preprocessing Reviews: 100%|██████████| 10000/10000 [02:06<00:00, 78.75it/s]"
     ]
    },
    {
     "name": "stdout",
     "output_type": "stream",
     "text": [
      "                                                      0         1\n",
      "0     great music service audio high quality app eas...  positive\n",
      "1     ignore previous negative rating app super grea...  positive\n",
      "2     pop good spotify experience android 12 annoyin...  positive\n",
      "3                           buggy terrible use recently  negative\n",
      "4               dear spotify song playlist shuffle play  negative\n",
      "...                                                 ...       ...\n",
      "9995  sure panel lag low internet connection wait ti...   neutral\n",
      "9996  app problem download song time buffer time cru...  negative\n",
      "9997                       app good lyric will nun song  positive\n",
      "9998  good app doesn't ad song wide variety let expl...  positive\n",
      "9999  impossible use lock screen anymore try find sa...  negative\n",
      "\n",
      "[10000 rows x 2 columns]\n"
     ]
    },
    {
     "name": "stderr",
     "output_type": "stream",
     "text": [
      "\n"
     ]
    }
   ],
   "execution_count": 129
  },
  {
   "metadata": {},
   "cell_type": "markdown",
   "source": "### Train/Test Splitting:",
   "id": "ca15d5e1f6795ed6"
  },
  {
   "metadata": {
    "ExecuteTime": {
     "end_time": "2024-12-02T15:00:40.016108Z",
     "start_time": "2024-12-02T15:00:39.985803Z"
    }
   },
   "cell_type": "code",
   "source": [
    "from sklearn import model_selection as ms\n",
    "\n",
    "df_text = df_processed[0]\n",
    "df_target = df_processed[1]\n",
    "\n",
    "train_data, test_data, train_target, test_target = ms.train_test_split(df_text, df_target, test_size=0.2, random_state=69, stratify=df_target)\n",
    "\n",
    "print(test_target)\n"
   ],
   "id": "48172c99eee59048",
   "outputs": [
    {
     "name": "stdout",
     "output_type": "stream",
     "text": [
      "520     negative\n",
      "5887    positive\n",
      "9153    positive\n",
      "2397    negative\n",
      "8081    positive\n",
      "          ...   \n",
      "4190    negative\n",
      "8920    negative\n",
      "8251    positive\n",
      "5728    negative\n",
      "795     positive\n",
      "Name: 1, Length: 2000, dtype: object\n"
     ]
    }
   ],
   "execution_count": 130
  },
  {
   "metadata": {},
   "cell_type": "markdown",
   "source": "### Count Vectorizer:",
   "id": "7c1d5f3e6bef3bbe"
  },
  {
   "metadata": {
    "ExecuteTime": {
     "end_time": "2024-12-02T15:00:40.293672Z",
     "start_time": "2024-12-02T15:00:40.020623Z"
    }
   },
   "cell_type": "code",
   "source": [
    "from sklearn.feature_extraction.text import CountVectorizer\n",
    "\n",
    "cv = CountVectorizer()\n",
    "train_features = cv.fit_transform(train_data)\n",
    "\n",
    "print(train_features.shape)\n",
    "\n",
    "#print(train_features[:3])"
   ],
   "id": "8dd54b345d945020",
   "outputs": [
    {
     "name": "stdout",
     "output_type": "stream",
     "text": [
      "(8000, 6261)\n"
     ]
    }
   ],
   "execution_count": 131
  },
  {
   "metadata": {
    "ExecuteTime": {
     "end_time": "2024-12-02T15:00:40.312825Z",
     "start_time": "2024-12-02T15:00:40.293672Z"
    }
   },
   "cell_type": "code",
   "source": [
    "from sklearn.preprocessing import Binarizer\n",
    "\n",
    "transformer = Binarizer()\n",
    "train_bin = transformer.fit_transform(train_features)\n",
    "print(train_bin.shape)\n",
    "print(train_bin[0])"
   ],
   "id": "eae77d03570ae5c9",
   "outputs": [
    {
     "name": "stdout",
     "output_type": "stream",
     "text": [
      "(8000, 6261)\n",
      "<Compressed Sparse Row sparse matrix of dtype 'int64'\n",
      "\twith 6 stored elements and shape (1, 6261)>\n",
      "  Coords\tValues\n",
      "  (0, 4962)\t1\n",
      "  (0, 4029)\t1\n",
      "  (0, 4370)\t1\n",
      "  (0, 1194)\t1\n",
      "  (0, 5741)\t1\n",
      "  (0, 4378)\t1\n"
     ]
    }
   ],
   "execution_count": 132
  },
  {
   "metadata": {},
   "cell_type": "markdown",
   "source": "## Classification Process",
   "id": "744f00257d819adf"
  },
  {
   "metadata": {
    "ExecuteTime": {
     "end_time": "2024-12-02T15:00:40.611951Z",
     "start_time": "2024-12-02T15:00:40.312825Z"
    }
   },
   "cell_type": "code",
   "source": [
    "from sklearn.naive_bayes import MultinomialNB\n",
    "from sklearn.pipeline import Pipeline\n",
    "from sklearn.preprocessing import Binarizer\n",
    "\n",
    "text_clf = Pipeline([('vect', CountVectorizer(min_df=10, max_df=0.5)), \n",
    "                     ('binarizer', Binarizer()),\n",
    "                     ('clf', MultinomialNB()) # Classificiation\n",
    "                    ])\n",
    "\n",
    "text_clf.fit(train_data, train_target) \n",
    "print(text_clf)\n",
    "predicted = text_clf.predict(test_data)\n",
    "print(predicted)"
   ],
   "id": "239c221eed7c3f7e",
   "outputs": [
    {
     "name": "stdout",
     "output_type": "stream",
     "text": [
      "Pipeline(steps=[('vect', CountVectorizer(max_df=0.5, min_df=10)),\n",
      "                ('binarizer', Binarizer()), ('clf', MultinomialNB())])\n",
      "['negative' 'positive' 'positive' ... 'positive' 'negative' 'positive']\n"
     ]
    }
   ],
   "execution_count": 133
  },
  {
   "metadata": {
    "ExecuteTime": {
     "end_time": "2024-12-02T15:00:40.619795Z",
     "start_time": "2024-12-02T15:00:40.613501Z"
    }
   },
   "cell_type": "code",
   "source": "",
   "id": "8b677ada1f4f72e5",
   "outputs": [],
   "execution_count": 133
  }
 ],
 "metadata": {
  "kernelspec": {
   "display_name": "Python 3",
   "language": "python",
   "name": "python3"
  },
  "language_info": {
   "codemirror_mode": {
    "name": "ipython",
    "version": 2
   },
   "file_extension": ".py",
   "mimetype": "text/x-python",
   "name": "python",
   "nbconvert_exporter": "python",
   "pygments_lexer": "ipython2",
   "version": "2.7.6"
  }
 },
 "nbformat": 4,
 "nbformat_minor": 5
}
