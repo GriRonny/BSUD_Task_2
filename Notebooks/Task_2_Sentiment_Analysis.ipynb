{
 "cells": [
  {
   "metadata": {},
   "cell_type": "markdown",
   "source": "# Sentiment Analysis and Text Preprocessing",
   "id": "edd04765bac23c9d"
  },
  {
   "metadata": {},
   "cell_type": "markdown",
   "source": "### Imports and Setup",
   "id": "75982d633b540374"
  },
  {
   "metadata": {
    "ExecuteTime": {
     "end_time": "2024-11-27T16:04:18.367786Z",
     "start_time": "2024-11-27T16:04:16.098721Z"
    }
   },
   "cell_type": "code",
   "source": [
    "import string\n",
    "import logging\n",
    "import pandas as pd\n",
    "import spacy\n",
    "import nltk\n",
    "from nltk.corpus import stopwords\n",
    "from nltk.tokenize import word_tokenize\n",
    "# from nltk.stem import WordNetLemmatizer\n",
    "from nltk.sentiment.util import mark_negation"
   ],
   "id": "31d8eeb9aa33d5e",
   "outputs": [],
   "execution_count": 1
  },
  {
   "metadata": {},
   "cell_type": "markdown",
   "source": "## Step 1: Download Resources",
   "id": "f75a122bb09c9e2f"
  },
  {
   "metadata": {
    "ExecuteTime": {
     "end_time": "2024-11-27T16:04:41.531576Z",
     "start_time": "2024-11-27T16:04:41.115214Z"
    }
   },
   "cell_type": "code",
   "source": [
    "# Download resources\n",
    "logging.info(\"Downloading Resources...\")\n",
    "nltk.download('stopwords')\n",
    "nltk.download('punkt')\n",
    "nltk.download('wordnet')\n",
    "\n",
    "# spaCy model for lemmatization (medium model) \"python -m spacy download en_core_web_sm\"\n",
    "nlp = spacy.load('en_core_web_sm')"
   ],
   "id": "c0a634ab8bb2deff",
   "outputs": [
    {
     "name": "stderr",
     "output_type": "stream",
     "text": [
      "[nltk_data] Downloading package stopwords to\n",
      "[nltk_data]     C:\\Users\\phili\\AppData\\Roaming\\nltk_data...\n",
      "[nltk_data]   Package stopwords is already up-to-date!\n",
      "[nltk_data] Downloading package punkt to\n",
      "[nltk_data]     C:\\Users\\phili\\AppData\\Roaming\\nltk_data...\n",
      "[nltk_data]   Package punkt is already up-to-date!\n",
      "[nltk_data] Downloading package wordnet to\n",
      "[nltk_data]     C:\\Users\\phili\\AppData\\Roaming\\nltk_data...\n",
      "[nltk_data]   Package wordnet is already up-to-date!\n"
     ]
    }
   ],
   "execution_count": 3
  },
  {
   "metadata": {},
   "cell_type": "markdown",
   "source": "## Step 2: Load Data",
   "id": "178e92e1caa21216"
  },
  {
   "metadata": {
    "ExecuteTime": {
     "end_time": "2024-11-27T16:09:17.565513Z",
     "start_time": "2024-11-27T16:09:17.560438Z"
    }
   },
   "cell_type": "code",
   "source": [
    "# Load dataset\n",
    "df = pd.read_csv('spotify_reviews_lightweight.csv', header=None, names=['raw_reviews'])"
   ],
   "id": "900a79feb2a1e545",
   "outputs": [],
   "execution_count": 10
  },
  {
   "metadata": {},
   "cell_type": "markdown",
   "source": "## Step 3: Define Preprocessing Function",
   "id": "640625544288c208"
  },
  {
   "metadata": {
    "ExecuteTime": {
     "end_time": "2024-11-27T16:09:21.268872Z",
     "start_time": "2024-11-27T16:09:21.265314Z"
    }
   },
   "cell_type": "code",
   "source": [
    "# Preprocessing function\n",
    "def preprocess_text(text):\n",
    "    # Tokenization\n",
    "    tokens = word_tokenize(text)\n",
    "\n",
    "    # Mark negations\n",
    "    tokens = mark_negation(tokens)\n",
    "\n",
    "    # Remove punctuation and stopwords\n",
    "    stop_words = set(stopwords.words('english'))\n",
    "    tokens = [t for t in tokens if t not in stop_words and t not in string.punctuation]\n",
    "\n",
    "    # Lemmatization\n",
    "    lemmatized_tokens = [token.lemma_ for token in nlp(' '.join(tokens))]\n",
    "\n",
    "    return ' '.join(lemmatized_tokens)\n"
   ],
   "id": "11521c71dd48b2c0",
   "outputs": [],
   "execution_count": 11
  },
  {
   "metadata": {},
   "cell_type": "markdown",
   "source": "## Step 4: Apply Preprocessing to Dataset",
   "id": "5750287e63f8aab0"
  },
  {
   "metadata": {
    "ExecuteTime": {
     "end_time": "2024-11-27T16:09:40.719428Z",
     "start_time": "2024-11-27T16:09:38.509204Z"
    }
   },
   "cell_type": "code",
   "source": [
    "# Apply preprocessing\n",
    "df['processed_reviews'] = df['raw_reviews'].apply(preprocess_text)"
   ],
   "id": "aacdc61fc97a423b",
   "outputs": [
    {
     "name": "stdout",
     "output_type": "stream",
     "text": [
      "None\n"
     ]
    }
   ],
   "execution_count": 13
  },
  {
   "metadata": {},
   "cell_type": "markdown",
   "source": "## Step 5: Save Processed Data",
   "id": "da8115d0fddb84e2"
  },
  {
   "metadata": {
    "ExecuteTime": {
     "end_time": "2024-11-27T16:09:47.247378Z",
     "start_time": "2024-11-27T16:09:47.238718Z"
    }
   },
   "cell_type": "code",
   "source": [
    "# Save to CSV\n",
    "output_file = 'reviews_preprocessed.csv'\n",
    "df.to_csv(output_file, index=False)\n",
    "logging.info(f\"Processed data saved to {output_file}.\")"
   ],
   "id": "b62a16af3f8fb84e",
   "outputs": [],
   "execution_count": 14
  },
  {
   "metadata": {},
   "cell_type": "markdown",
   "source": "## Step 6: Preview Preprocessing Results",
   "id": "8352011c3e797b84"
  },
  {
   "metadata": {
    "ExecuteTime": {
     "end_time": "2024-11-27T16:10:12.106168Z",
     "start_time": "2024-11-27T16:10:12.101602Z"
    }
   },
   "cell_type": "code",
   "source": [
    "# Print first few words of unprocessed and processed text\n",
    "print(\"Unprocessed Text (first few words):\")\n",
    "print(df['raw_reviews'].iloc[0][:50])\n",
    "\n",
    "print(\"\\nProcessed Text (first few words):\")\n",
    "print(df['processed_reviews'].iloc[0][:50])"
   ],
   "id": "71d5d93049e4a79a",
   "outputs": [
    {
     "name": "stdout",
     "output_type": "stream",
     "text": [
      "Unprocessed Text (first few words):\n",
      "Great music service, the audio is high quality and\n",
      "\n",
      "Processed Text (first few words):\n",
      "great music service audio high quality app easy us\n"
     ]
    }
   ],
   "execution_count": 16
  },
  {
   "metadata": {},
   "cell_type": "code",
   "outputs": [],
   "execution_count": null,
   "source": "",
   "id": "aa4b79830391506f"
  }
 ],
 "metadata": {
  "kernelspec": {
   "display_name": "Python 3",
   "language": "python",
   "name": "python3"
  },
  "language_info": {
   "codemirror_mode": {
    "name": "ipython",
    "version": 2
   },
   "file_extension": ".py",
   "mimetype": "text/x-python",
   "name": "python",
   "nbconvert_exporter": "python",
   "pygments_lexer": "ipython2",
   "version": "2.7.6"
  }
 },
 "nbformat": 4,
 "nbformat_minor": 5
}
